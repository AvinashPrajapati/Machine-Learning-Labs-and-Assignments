{
 "cells": [
  {
   "cell_type": "code",
   "execution_count": 5,
   "id": "39253eb2",
   "metadata": {},
   "outputs": [
    {
     "data": {
      "text/plain": [
       "-4.067415730337078"
      ]
     },
     "execution_count": 5,
     "metadata": {},
     "output_type": "execute_result"
    }
   ],
   "source": [
    "x = [0,1,2,3,3,5,5,6,7,7,10,5]\n",
    "y = [96,85,82,74,95,68,76,58,65,75,50,84]\n",
    "sumX = sum(x)\n",
    "sumY = sum(y)\n",
    "\n",
    "\n",
    "sumXY = sum([x[i]*y[i] for i in range(len(x))])\n",
    "n_sumXY = len(x)*sumXY\n",
    "\n",
    "sumXsumY = sumX*sumY\n",
    "\n",
    "xSumSquare = sumX*sumX\n",
    "\n",
    "xSquare = [i * i for i in x]\n",
    "# print(xSquare)\n",
    "xSquareSum = sum(xSquare)\n",
    "\n",
    "\n",
    "coVar = (len(x) * sumXY - sumXsumY) / (len(x) * xSquareSum - xSumSquare)\n",
    "coVar"
   ]
  },
  {
   "cell_type": "code",
   "execution_count": 7,
   "id": "c37f88fe",
   "metadata": {},
   "outputs": [
    {
     "data": {
      "text/plain": [
       "93.97003745318352"
      ]
     },
     "execution_count": 7,
     "metadata": {},
     "output_type": "execute_result"
    }
   ],
   "source": [
    "bIntercept = sumY / len(y) - coVar * sumX / len(x)\n",
    "bIntercept"
   ]
  },
  {
   "cell_type": "code",
   "execution_count": null,
   "id": "16f3ab85",
   "metadata": {},
   "outputs": [
    {
     "data": {
      "text/plain": [
       "57.36329588014982"
      ]
     },
     "execution_count": 13,
     "metadata": {},
     "output_type": "execute_result"
    }
   ],
   "source": [
    "newX = input(\"Enter the hours a student rest in a Week( 0 - 10) : \")\n",
    "predY = coVar * int(newX) + bIntercept\n",
    "print(\"Expected marks the student can get : \", predY)"
   ]
  },
  {
   "cell_type": "code",
   "execution_count": null,
   "id": "0b6406fc",
   "metadata": {},
   "outputs": [],
   "source": []
  }
 ],
 "metadata": {
  "kernelspec": {
   "display_name": "Python 3",
   "language": "python",
   "name": "python3"
  },
  "language_info": {
   "codemirror_mode": {
    "name": "ipython",
    "version": 3
   },
   "file_extension": ".py",
   "mimetype": "text/x-python",
   "name": "python",
   "nbconvert_exporter": "python",
   "pygments_lexer": "ipython3",
   "version": "3.10.6"
  }
 },
 "nbformat": 4,
 "nbformat_minor": 5
}
