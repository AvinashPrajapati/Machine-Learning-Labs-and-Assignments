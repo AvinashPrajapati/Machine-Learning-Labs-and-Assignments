{
 "cells": [
  {
   "cell_type": "markdown",
   "id": "3800e85c",
   "metadata": {},
   "source": [
    "### Logistic Regression"
   ]
  },
  {
   "cell_type": "code",
   "execution_count": 1,
   "id": "9c7b0b96",
   "metadata": {},
   "outputs": [],
   "source": [
    "import pandas as pd\n",
    "from matplotlib import pyplot as plt"
   ]
  },
  {
   "cell_type": "code",
   "execution_count": null,
   "id": "c3f19d74",
   "metadata": {},
   "outputs": [],
   "source": []
  },
  {
   "cell_type": "code",
   "execution_count": 2,
   "id": "07ad923c",
   "metadata": {},
   "outputs": [
    {
     "data": {
      "text/html": [
       "<div>\n",
       "<style scoped>\n",
       "    .dataframe tbody tr th:only-of-type {\n",
       "        vertical-align: middle;\n",
       "    }\n",
       "\n",
       "    .dataframe tbody tr th {\n",
       "        vertical-align: top;\n",
       "    }\n",
       "\n",
       "    .dataframe thead th {\n",
       "        text-align: right;\n",
       "    }\n",
       "</style>\n",
       "<table border=\"1\" class=\"dataframe\">\n",
       "  <thead>\n",
       "    <tr style=\"text-align: right;\">\n",
       "      <th></th>\n",
       "      <th>age</th>\n",
       "      <th>bought_insurance</th>\n",
       "    </tr>\n",
       "  </thead>\n",
       "  <tbody>\n",
       "    <tr>\n",
       "      <th>0</th>\n",
       "      <td>22</td>\n",
       "      <td>0</td>\n",
       "    </tr>\n",
       "    <tr>\n",
       "      <th>1</th>\n",
       "      <td>25</td>\n",
       "      <td>0</td>\n",
       "    </tr>\n",
       "    <tr>\n",
       "      <th>2</th>\n",
       "      <td>47</td>\n",
       "      <td>1</td>\n",
       "    </tr>\n",
       "    <tr>\n",
       "      <th>3</th>\n",
       "      <td>52</td>\n",
       "      <td>0</td>\n",
       "    </tr>\n",
       "    <tr>\n",
       "      <th>4</th>\n",
       "      <td>46</td>\n",
       "      <td>1</td>\n",
       "    </tr>\n",
       "  </tbody>\n",
       "</table>\n",
       "</div>"
      ],
      "text/plain": [
       "   age  bought_insurance\n",
       "0   22                 0\n",
       "1   25                 0\n",
       "2   47                 1\n",
       "3   52                 0\n",
       "4   46                 1"
      ]
     },
     "execution_count": 2,
     "metadata": {},
     "output_type": "execute_result"
    }
   ],
   "source": [
    "df = pd.read_csv(\"insurance_data.csv\")\n",
    "df.head()"
   ]
  },
  {
   "cell_type": "code",
   "execution_count": 3,
   "id": "a135c930",
   "metadata": {},
   "outputs": [
    {
     "data": {
      "text/plain": [
       "<matplotlib.collections.PathCollection at 0x18ce3731120>"
      ]
     },
     "execution_count": 3,
     "metadata": {},
     "output_type": "execute_result"
    },
    {
     "data": {
      "image/png": "[encoded data removed]",
      "text/plain": [
       "<Figure size 640x480 with 1 Axes>"
      ]
     },
     "metadata": {},
     "output_type": "display_data"
    }
   ],
   "source": [
    "plt.scatter(df.age, df.bought_insurance, marker=\"*\", color=\"blue\")"
   ]
  },
  {
   "cell_type": "code",
   "execution_count": 4,
   "id": "c014dea3",
   "metadata": {},
   "outputs": [],
   "source": [
    "# Suppose df is your DataFrame\n",
    "train_size = 0.8\n",
    "n_train = int(len(df) * train_size)\n",
    "\n",
    "df_shuffled = df.sample(frac=1, random_state=42).reset_index(drop=True)\n",
    "\n",
    "train_df = df_shuffled.iloc[:n_train]\n",
    "test_df = df_shuffled.iloc[n_train:]\n",
    "\n",
    "X_train = train_df[[\"age\"]]\n",
    "y_train = train_df[\"bought_insurance\"]\n",
    "\n",
    "X_test = test_df[[\"age\"]]\n",
    "y_test = test_df[\"bought_insurance\"]"
   ]
  },
  {
   "cell_type": "code",
   "execution_count": 5,
   "id": "40e2f72a",
   "metadata": {},
   "outputs": [
    {
     "data": {
      "text/plain": [
       "((21, 1), (6, 1))"
      ]
     },
     "execution_count": 5,
     "metadata": {},
     "output_type": "execute_result"
    }
   ],
   "source": [
    "X_train.shape, X_test.shape"
   ]
  },
  {
   "cell_type": "code",
   "execution_count": 29,
   "id": "69cb5fa5",
   "metadata": {},
   "outputs": [],
   "source": [
    "import numpy as np\n",
    "\n",
    "\n",
    "def Logistic_reg(x, y, lr=0.01, epochs=1000):\n",
    "    x = x.reshape(-1, 1)  # ensure 2D\n",
    "    X = np.c_[np.ones((x.shape[0], 1)), x] \n",
    "    print(x[:5], X[:5])\n",
    "    y = y.reshape(-1, 1)\n",
    "    \n",
    "\n",
    "    # initialize weights\n",
    "    theta = np.zeros((X.shape[1], 1))\n",
    "    print(theta)\n",
    "\n",
    "    for _ in range(epochs):\n",
    "        z = X @ theta\n",
    "        h = 1 / (1 + np.exp(-z))\n",
    "        gradient = X.T @ (h - y) / len(y)\n",
    "        theta -= lr * gradient\n",
    "\n",
    "    return theta  # coefficients [bias, slope]"
   ]
  },
  {
   "cell_type": "code",
   "execution_count": 30,
   "id": "3ea44f55",
   "metadata": {},
   "outputs": [
    {
     "name": "stdout",
     "output_type": "stream",
     "text": [
      "[[62]\n",
      " [29]\n",
      " [61]\n",
      " [26]\n",
      " [22]] [[ 1. 62.]\n",
      " [ 1. 29.]\n",
      " [ 1. 61.]\n",
      " [ 1. 26.]\n",
      " [ 1. 22.]]\n",
      "[[0.]\n",
      " [0.]]\n",
      "Bias and coefficient: [-1.15465345  0.04225014]\n"
     ]
    }
   ],
   "source": [
    "X_train_np = X_train.to_numpy()\n",
    "y_train_np = y_train.to_numpy()\n",
    "\n",
    "params = Logistic_reg(X_train_np, y_train_np)\n",
    "print(\"Bias and coefficient:\", params.ravel())"
   ]
  },
  {
   "cell_type": "code",
   "execution_count": 26,
   "id": "349a5add",
   "metadata": {},
   "outputs": [
    {
     "name": "stdout",
     "output_type": "stream",
     "text": [
      "[[0.18772589]\n",
      " [0.4823572 ]\n",
      " [0.19425355]\n",
      " [0.51403379]\n",
      " [0.55605103]]\n"
     ]
    },
    {
     "data": {
      "text/plain": [
       "(None,\n",
       " array([[62],\n",
       "        [29],\n",
       "        [61],\n",
       "        [26],\n",
       "        [22]]),\n",
       " array([1, 0, 1, 0, 0]))"
      ]
     },
     "execution_count": 26,
     "metadata": {},
     "output_type": "execute_result"
    }
   ],
   "source": [
    "def predict(x, theta):\n",
    "    X = np.c_[np.ones((x.shape[0],1)), x]\n",
    "    return 1 / (1 + np.exp((X @ theta)))\n",
    "\n",
    "preds = predict(X_train_np, params)\n",
    "print(preds[:5]), X_train_np[:5], y_train_np[:5]  # first 5 probabilities"
   ]
  },
  {
   "cell_type": "code",
   "execution_count": 23,
   "id": "8e7d549b",
   "metadata": {},
   "outputs": [
    {
     "data": {
      "image/png": "[encoded data removed]",
      "text/plain": [
       "<Figure size 640x480 with 1 Axes>"
      ]
     },
     "metadata": {},
     "output_type": "display_data"
    }
   ],
   "source": [
    "# Plot actual data\n",
    "plt.scatter(df.age, df.bought_insurance, color=\"red\", marker=\"o\", label=\"Actual\")\n",
    "\n",
    "# Plot predictions (only first 5, as you tried)\n",
    "plt.scatter(df.age[:5], preds[:5], color=\"blue\", marker=\"*\", s=150, label=\"Predicted\")\n",
    "\n",
    "plt.xlabel(\"Age\")\n",
    "plt.ylabel(\"Bought Insurance\")\n",
    "plt.legend()\n",
    "plt.show()"
   ]
  },
  {
   "cell_type": "code",
   "execution_count": null,
   "id": "cc9b618e",
   "metadata": {},
   "outputs": [],
   "source": []
  }
 ],
 "metadata": {
  "kernelspec": {
   "display_name": "Python 3",
   "language": "python",
   "name": "python3"
  },
  "language_info": {
   "codemirror_mode": {
    "name": "ipython",
    "version": 3
   },
   "file_extension": ".py",
   "mimetype": "text/x-python",
   "name": "python",
   "nbconvert_exporter": "python",
   "pygments_lexer": "ipython3",
   "version": "3.10.6"
  }
 },
 "nbformat": 4,
 "nbformat_minor": 5
}
