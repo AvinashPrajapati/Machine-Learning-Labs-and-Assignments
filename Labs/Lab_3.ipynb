{
 "cells": [
  {
   "cell_type": "code",
   "execution_count": 1,
   "id": "535aa7bb",
   "metadata": {},
   "outputs": [],
   "source": [
    "import numpy as np"
   ]
  },
  {
   "cell_type": "code",
   "execution_count": 2,
   "id": "b3bdad21",
   "metadata": {},
   "outputs": [],
   "source": [
    "def sigmoid(z):\n",
    "    return 1.0/(1.0+ np.exp(-z))"
   ]
  },
  {
   "cell_type": "code",
   "execution_count": 33,
   "id": "a516d62c",
   "metadata": {},
   "outputs": [],
   "source": [
    "def calculate_gradient(theta, X, y):\n",
    "    m = y.size\n",
    "    return (X.T @ (sigmoid(X@theta) -y )) / m"
   ]
  },
  {
   "cell_type": "code",
   "execution_count": 34,
   "id": "4b87869e",
   "metadata": {},
   "outputs": [],
   "source": [
    "def gradient_descent(X, y, alpha = 0.1, num_iter=100, tol = 1e-7):\n",
    "    X_b = np.c_[np.ones((X.shape[0], 1)), X]\n",
    "    theta = np.zeros(X_b.shape[1])\n",
    "    \n",
    "    for i in range(num_iter):\n",
    "        grad = calculate_gradient(theta, X_b, y)\n",
    "        theta -= alpha*grad\n",
    "        \n",
    "        if np.linalg.norm(grad) < tol:\n",
    "            break\n",
    "    return theta\n",
    "        "
   ]
  },
  {
   "cell_type": "code",
   "execution_count": 35,
   "id": "1b04b381",
   "metadata": {},
   "outputs": [],
   "source": [
    "def predict_proba(X, theta):\n",
    "    X_b = np.c_[np.ones((X.shape[0], 1)), X]\n",
    "    return sigmoid(X_b @ theta)"
   ]
  },
  {
   "cell_type": "code",
   "execution_count": 36,
   "id": "9a6f92ed",
   "metadata": {},
   "outputs": [],
   "source": [
    "def predict(X, theta, thresold=0.5):\n",
    "    return (predict_proba(X, theta) >= thresold).astype(int)"
   ]
  },
  {
   "cell_type": "code",
   "execution_count": 37,
   "id": "489d0264",
   "metadata": {},
   "outputs": [],
   "source": [
    "from sklearn.datasets import load_breast_cancer\n",
    "from sklearn.preprocessing import StandardScaler\n",
    "from sklearn.model_selection import train_test_split\n",
    "from sklearn.metrics import accuracy_score"
   ]
  },
  {
   "cell_type": "code",
   "execution_count": 38,
   "id": "04396e5d",
   "metadata": {},
   "outputs": [],
   "source": [
    "X, y = load_breast_cancer(return_X_y=True)\n",
    "X_train, X_test, y_train, y_test = train_test_split(X, y, test_size=0.2)"
   ]
  },
  {
   "cell_type": "code",
   "execution_count": null,
   "id": "6c4fb62e",
   "metadata": {},
   "outputs": [],
   "source": []
  },
  {
   "cell_type": "code",
   "execution_count": 39,
   "id": "d5c7cce2",
   "metadata": {},
   "outputs": [],
   "source": [
    "scalar = StandardScaler()"
   ]
  },
  {
   "cell_type": "code",
   "execution_count": 40,
   "id": "3d123458",
   "metadata": {},
   "outputs": [],
   "source": [
    "X_train_scaled = scalar.fit_transform(X_train)"
   ]
  },
  {
   "cell_type": "code",
   "execution_count": 41,
   "id": "99231f04",
   "metadata": {},
   "outputs": [],
   "source": [
    "X_test_scaled = scalar.transform(X_test)"
   ]
  },
  {
   "cell_type": "code",
   "execution_count": 42,
   "id": "f76ab81a",
   "metadata": {},
   "outputs": [],
   "source": [
    "theta_hat = gradient_descent(X_train_scaled, y_train, alpha=0.1)"
   ]
  },
  {
   "cell_type": "code",
   "execution_count": 43,
   "id": "d7d2a3aa",
   "metadata": {},
   "outputs": [],
   "source": [
    "Y_pred_train = predict(X_train_scaled, theta_hat)\n",
    "Y_pred_test = predict(X_test_scaled, theta_hat)"
   ]
  },
  {
   "cell_type": "code",
   "execution_count": 45,
   "id": "82fd427c",
   "metadata": {},
   "outputs": [
    {
     "data": {
      "text/plain": [
       "(0.978021978021978, 0.9824561403508771)"
      ]
     },
     "execution_count": 45,
     "metadata": {},
     "output_type": "execute_result"
    }
   ],
   "source": [
    "train_acc = accuracy_score(y_train, Y_pred_train)\n",
    "test_acc = accuracy_score(y_test, Y_pred_test)\n",
    "train_acc, test_acc"
   ]
  },
  {
   "cell_type": "code",
   "execution_count": null,
   "id": "08392769",
   "metadata": {},
   "outputs": [],
   "source": []
  },
  {
   "cell_type": "code",
   "execution_count": null,
   "id": "199fdcf9",
   "metadata": {},
   "outputs": [],
   "source": []
  }
 ],
 "metadata": {
  "kernelspec": {
   "display_name": "venv",
   "language": "python",
   "name": "python3"
  },
  "language_info": {
   "codemirror_mode": {
    "name": "ipython",
    "version": 3
   },
   "file_extension": ".py",
   "mimetype": "text/x-python",
   "name": "python",
   "nbconvert_exporter": "python",
   "pygments_lexer": "ipython3",
   "version": "3.10.6"
  }
 },
 "nbformat": 4,
 "nbformat_minor": 5
}
